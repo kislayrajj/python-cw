{
 "cells": [
  {
   "cell_type": "code",
   "execution_count": 9,
   "id": "20d3c404-b2bd-42b8-83aa-e76c151bb738",
   "metadata": {},
   "outputs": [
    {
     "name": "stdout",
     "output_type": "stream",
     "text": [
      "Making Phone Call\n",
      "Playing Game\n"
     ]
    }
   ],
   "source": [
    "# wap to print a message using class\n",
    "\n",
    "class Phone:\n",
    "    def make_call(self):\n",
    "        print(\"Making Phone Call\")\n",
    "\n",
    "    def play_game(self):\n",
    "        print(\"Playing Game\")\n",
    "\n",
    "\n",
    "p1 = Phone()\n",
    "p1.make_call()\n",
    "p1.play_game()"
   ]
  },
  {
   "cell_type": "code",
   "execution_count": 53,
   "id": "952d9659-a2a9-4468-b6e5-8759b1667542",
   "metadata": {},
   "outputs": [
    {
     "name": "stdout",
     "output_type": "stream",
     "text": [
      "89\n",
      "Hello\n"
     ]
    }
   ],
   "source": [
    "# write a program to print a value using class\n",
    "class Temp:\n",
    "    \n",
    "    def print_msg(self,a):\n",
    "        value = a\n",
    "        print(value)\n",
    "\n",
    "\n",
    "v1= Temp()\n",
    "v1.print_msg(89)\n",
    "v1.print_msg(\"Hello\")\n"
   ]
  },
  {
   "cell_type": "code",
   "execution_count": 49,
   "id": "03997ce1-e339-4b52-81fb-7dbe6b48a386",
   "metadata": {},
   "outputs": [
    {
     "name": "stdout",
     "output_type": "stream",
     "text": [
      "5\n"
     ]
    }
   ],
   "source": [
    "# wap to find the sum of two numbers using classes\n",
    "\n",
    "class Calculate:\n",
    "    def __init__(self,a,b):\n",
    "        self.a = a\n",
    "        self.b = b\n",
    "\n",
    "    \n",
    "    def sum(self):\n",
    "        print(self.a + self.b)\n",
    "        return self.a + self.b\n",
    "        \n",
    "\n",
    "s1 = Calculate(2,3).sum()\n",
    "\n"
   ]
  },
  {
   "cell_type": "code",
   "execution_count": null,
   "id": "6cba6147-caf1-4d23-9423-dbf35ccbb54b",
   "metadata": {},
   "outputs": [],
   "source": [
    "# wap to find the sum of two number using classes\n",
    "class Addition:\n",
    "    def add1(self,a,b):\n",
    "        self.a = a\n",
    "        self.b = b\n",
    "\n",
    "    \n",
    "    def add(self):\n",
    "        c = self.a + self.b\n",
    "        print(c)\n",
    "        \n",
    "        return c\n",
    "        \n",
    "\n",
    "num1\n",
    "s1 = Calculate(2,3).sum()\n"
   ]
  },
  {
   "cell_type": "code",
   "execution_count": 28,
   "id": "dd2f38f2-944a-4ac0-967b-eea94c461add",
   "metadata": {},
   "outputs": [
    {
     "name": "stdout",
     "output_type": "stream",
     "text": [
      "720\n"
     ]
    }
   ],
   "source": [
    "# wap to find the factrial of a number using classes\n",
    "class Factorial:\n",
    "      def __init__(self,n):\n",
    "        self.n = n\n",
    "\n",
    "      def fact(self):\n",
    "          ans = 1\n",
    "          for i in range(self.n):\n",
    "              ans = (i+1)*ans\n",
    "          print(ans)\n",
    "\n",
    "\n",
    "\n",
    "\n",
    "num1= Factorial(6)\n",
    "num1.fact()\n",
    "\n",
    "        \n"
   ]
  },
  {
   "cell_type": "code",
   "execution_count": 36,
   "id": "c3bffb79-452b-44e0-ac3a-7cbd3afeab8a",
   "metadata": {},
   "outputs": [
    {
     "name": "stdout",
     "output_type": "stream",
     "text": [
      "This is non-parametrized constructor\n",
      "Hello John Cena\n"
     ]
    }
   ],
   "source": [
    "# wap to implement the init function\n",
    "class Student:\n",
    "    def __init__(self):\n",
    "        print(\"This is non-parametrized constructor\")\n",
    "\n",
    "    def show(self, name):\n",
    "        print(\"Hello\",name)\n",
    "\n",
    "\n",
    "stu1 = Student()\n",
    "stu1.show(\"John Cena\")"
   ]
  },
  {
   "cell_type": "code",
   "execution_count": 63,
   "id": "91223c56-0646-4568-a226-8078699804d6",
   "metadata": {},
   "outputs": [
    {
     "name": "stdout",
     "output_type": "stream",
     "text": [
      "This init fn has a parameter :  john doe\n",
      "Hello ram\n"
     ]
    }
   ],
   "source": [
    "# wap to implement the init function\n",
    "class Student:\n",
    "    def __init__(self):\n",
    "        print(\"This is non-parametrized constructor\")\n",
    "\n",
    "    def __init__(self,name):\n",
    "        print(\"This init fn has a parameter : \", name) # it will run last one or it will override the first one\n",
    "\n",
    "    def show(self,name):\n",
    "        print(\"Hello\",name)\n",
    "\n",
    "\n",
    "stu1 = Student(\"john doe\")\n",
    "stu1.show(\"ram\")"
   ]
  },
  {
   "cell_type": "code",
   "execution_count": 100,
   "id": "190863ff-2cba-4bc7-b55e-6d8eea87e82f",
   "metadata": {},
   "outputs": [
    {
     "name": "stdout",
     "output_type": "stream",
     "text": [
      "Enter student details below\n",
      "John doe\n",
      "mca\n",
      "88\n"
     ]
    }
   ],
   "source": [
    "# wap to print recod of student such as name ,class, phone nm using classes \n",
    "\n",
    "class Student:\n",
    "    def __init__(self, name ,clss,phone_no):\n",
    "        print ('Enter student details below')\n",
    "        self.name = name\n",
    "        self.clss = clss\n",
    "        self.phone_no =phone_no\n",
    "        \n",
    "        \n",
    "    def display(self):\n",
    "       print(self.name) \n",
    "       print(self.clss) \n",
    "       print(self.phone_no) \n",
    "\n",
    "st1 = Student(\"John doe\",\"mca\",88)\n",
    "st1.display()\n",
    "\n"
   ]
  },
  {
   "cell_type": "code",
   "execution_count": 12,
   "id": "2317fcb2-9e0d-41aa-9113-766c46c60e48",
   "metadata": {},
   "outputs": [
    {
     "name": "stdout",
     "output_type": "stream",
     "text": [
      "This is fn of parent class\n",
      "This is function  of child calss\n"
     ]
    }
   ],
   "source": [
    "# Inheritance\n",
    " # wap to implemet single inheritance\n",
    "\n",
    "class Parent:\n",
    "    def func1(self):\n",
    "        print(\"This is fn of parent class\" )\n",
    "\n",
    "\n",
    "class Child(Parent):\n",
    "    def func2(self):\n",
    "        print(\"This is function  of child calss\")\n",
    "\n",
    "ob = Child()\n",
    "ob.func1()\n",
    "ob.func2()"
   ]
  },
  {
   "cell_type": "code",
   "execution_count": 24,
   "id": "5bde5c18-c718-4309-bf93-68559f017d1b",
   "metadata": {},
   "outputs": [
    {
     "name": "stdout",
     "output_type": "stream",
     "text": [
      "50\n",
      "40\n"
     ]
    }
   ],
   "source": [
    "# wap to implement the multi level inheritance\n",
    "class Calculate:\n",
    "    def sum(self,a,b):\n",
    "        self.a = a\n",
    "        self.b =b\n",
    "        print(self.a + self.b)\n",
    "\n",
    "\n",
    "class Child(Calculate):\n",
    "    def sub(self,a,b):\n",
    "        self.a = a\n",
    "        self.b =b\n",
    "        print(self.a - self.b)\n",
    "class Final(Child):\n",
    "    def finalResult(self)\n",
    "    \n",
    "\n",
    "v1 = Calculate()\n",
    "v1.sum(45,5)\n",
    "v2 = Child()\n",
    "v2.sub(45,5)"
   ]
  },
  {
   "cell_type": "code",
   "execution_count": null,
   "id": "feb07a77-1198-4a3f-9040-e4739e85dd17",
   "metadata": {},
   "outputs": [],
   "source": [
    "# wap to implement the multi level inheritance\n",
    "class Parent1:\n",
    "    def func1(self):\n",
    "       print(\"this is parent1\")\n",
    "\n",
    "class Parent2:\n",
    "    def func2(self):\n",
    "       print(\"this is parent2\")\n",
    "\n",
    "class Parent3:\n",
    "    def func3(self,a,b):\n",
    "       print(\"this is parent3\")\n",
    "\n",
    "\n",
    "class Child(Parent):\n",
    "    def sub(self,a,b):\n",
    "        self.a = a\n",
    "        self.b =b\n",
    "        print(self.a - self.b)\n",
    "\n",
    "\n",
    "\n"
   ]
  },
  {
   "cell_type": "code",
   "execution_count": null,
   "id": "101b1170-f151-4792-8a46-a308fa083fa6",
   "metadata": {},
   "outputs": [],
   "source": [
    "# wap to implement the hierarchical inheritance\n",
    "class Parent1:\n",
    "    def func1(self):\n",
    "        \n",
    "       print(\"this is parent1\")\n",
    "\n",
    "class child(Parent):\n",
    "    def func1(self)\n",
    "    "
   ]
  },
  {
   "cell_type": "code",
   "execution_count": 30,
   "id": "d0830912-ed4f-4a92-8f55-5e7aa477b4b8",
   "metadata": {},
   "outputs": [
    {
     "name": "stdout",
     "output_type": "stream",
     "text": [
      "this is parent fn\n",
      "this is parent fn\n",
      "THis is fn 2\n"
     ]
    }
   ],
   "source": [
    "# wap to implement the super keyword\n",
    "class Parent:\n",
    "    def func1(self):\n",
    "       print(\"this is parent fn\")\n",
    "\n",
    "\n",
    "class Child(Parent):\n",
    "    def func2(self):\n",
    "        super().func1()\n",
    "        print(\"THis is fn 2\")\n",
    "\n",
    "\n",
    "ob = Child()\n",
    "ob.func1()\n",
    "ob.func2()"
   ]
  },
  {
   "cell_type": "code",
   "execution_count": 34,
   "id": "f27c276e-372d-4479-a686-f4646e47dded",
   "metadata": {},
   "outputs": [
    {
     "name": "stdout",
     "output_type": "stream",
     "text": [
      "this is parent fn\n",
      "THis is fn from child class\n"
     ]
    }
   ],
   "source": [
    "# method overriding And function overloading\n",
    "\n",
    "class Parent:\n",
    "    def func1(self):\n",
    "       print(\"this is parent fn\")\n",
    "\n",
    "\n",
    "class Child(Parent):\n",
    "    def func1(self):\n",
    "        print(\"THis is fn from child class\")\n",
    "\n",
    "ob = Parent()\n",
    "ob.func1()\n",
    "ob2 = Child()\n",
    "ob2.func1()"
   ]
  },
  {
   "cell_type": "code",
   "execution_count": 52,
   "id": "5bd33f5b-eed5-4360-a64a-8e3d2d591ad4",
   "metadata": {},
   "outputs": [
    {
     "name": "stdout",
     "output_type": "stream",
     "text": [
      "John Doe\n",
      "39\n",
      "John Doe\n",
      "39\n",
      "John Doe\n"
     ]
    }
   ],
   "source": [
    "# wap to implement the private \n",
    "\n",
    "class Student:\n",
    "    def __init__(self):\n",
    "        self.name = \"John Doe\"  # Public\n",
    "        self.__age = 39\n",
    "        print(self.name)\n",
    "        print(self.__age)\n",
    "\n",
    "\n",
    "class Subject(Student):    \n",
    "    pass\n",
    "\n",
    "\n",
    "obj = Student() \n",
    "obj1 = Student() \n",
    "\n",
    "print(obj.name)\n",
    "# print(obj.__age) # cannot access outside the class"
   ]
  },
  {
   "cell_type": "code",
   "execution_count": 76,
   "id": "af278add-b19f-41d5-9f61-9e5aca475874",
   "metadata": {},
   "outputs": [
    {
     "name": "stdout",
     "output_type": "stream",
     "text": [
      "John Doe\n"
     ]
    }
   ],
   "source": [
    "class Student:\n",
    "    def record(self):\n",
    "        self.name = \"John Doe\"  # Public\n",
    "        self.__age = 39\n",
    "        # print(self.name, self.__age)\n",
    "\n",
    "\n",
    "obj = Student() \n",
    "obj.record() \n",
    "print(obj.name)\n",
    "# print(obj.__age) # AttributeError\n"
   ]
  },
  {
   "cell_type": "code",
   "execution_count": 102,
   "id": "f7ed29f8-63a6-4c35-a677-f09390da5920",
   "metadata": {},
   "outputs": [
    {
     "ename": "TypeError",
     "evalue": "'str' object is not callable",
     "output_type": "error",
     "traceback": [
      "\u001b[1;31m---------------------------------------------------------------------------\u001b[0m",
      "\u001b[1;31mTypeError\u001b[0m                                 Traceback (most recent call last)",
      "Cell \u001b[1;32mIn[102], line 15\u001b[0m\n\u001b[0;32m     11\u001b[0m             count \u001b[38;5;241m+\u001b[39m\u001b[38;5;241m=\u001b[39m \u001b[38;5;241m1\u001b[39m  \u001b[38;5;66;03m# Increment count for each vowel\u001b[39;00m\n\u001b[0;32m     12\u001b[0m     \u001b[38;5;28;01mreturn\u001b[39;00m count\n\u001b[1;32m---> 15\u001b[0m user_input \u001b[38;5;241m=\u001b[39m\u001b[38;5;28mlist\u001b[39m(\u001b[38;5;28minput\u001b[39m()) \n\u001b[0;32m     16\u001b[0m vowel_count \u001b[38;5;241m=\u001b[39m get_vowels(user_input)  \n\u001b[0;32m     17\u001b[0m \u001b[38;5;28mprint\u001b[39m(\u001b[38;5;124m\"\u001b[39m\u001b[38;5;124mNumber of vowels:\u001b[39m\u001b[38;5;124m\"\u001b[39m, vowel_count)\n",
      "\u001b[1;31mTypeError\u001b[0m: 'str' object is not callable"
     ]
    }
   ],
   "source": [
    "# Protected\n",
    "# Q. count the number of vowels in the sentence\n",
    "# Q . check if num is odd or even\n",
    "\n",
    "# count vowels\n",
    "\n",
    "def get_vowels(sent):\n",
    "    count = 0\n",
    "    for char in sent:\n",
    "        if char in \"aeiouAEIOU\":  # Check if the character is a vowel\n",
    "            count += 1  # Increment count for each vowel\n",
    "    return count\n",
    "\n",
    "\n",
    "user_input =input() \n",
    "vowel_count = get_vowels(user_input)  \n",
    "print(\"Number of vowels:\", vowel_count)  \n",
    "\n"
   ]
  },
  {
   "cell_type": "code",
   "execution_count": null,
   "id": "f2a2ad1b-b677-4af5-8cff-7860297f352d",
   "metadata": {},
   "outputs": [],
   "source": []
  }
 ],
 "metadata": {
  "kernelspec": {
   "display_name": "Python 3 (ipykernel)",
   "language": "python",
   "name": "python3"
  },
  "language_info": {
   "codemirror_mode": {
    "name": "ipython",
    "version": 3
   },
   "file_extension": ".py",
   "mimetype": "text/x-python",
   "name": "python",
   "nbconvert_exporter": "python",
   "pygments_lexer": "ipython3",
   "version": "3.12.4"
  }
 },
 "nbformat": 4,
 "nbformat_minor": 5
}
